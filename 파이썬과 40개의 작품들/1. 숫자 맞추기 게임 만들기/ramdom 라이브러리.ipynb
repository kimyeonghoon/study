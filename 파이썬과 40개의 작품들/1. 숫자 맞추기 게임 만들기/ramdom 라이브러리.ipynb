{
 "cells": [
  {
   "attachments": {},
   "cell_type": "markdown",
   "metadata": {},
   "source": [
    "### random - 의사 난수 생성\n",
    "#### https://docs.python.org/ko/3/library/random.html\n",
    "\n",
    "보안 목적으로 사용해서는 안됨. 보안이나 암호화 용도를 위해서는 secrets 라이브러리 이용"
   ]
  },
  {
   "cell_type": "code",
   "execution_count": 6,
   "metadata": {},
   "outputs": [],
   "source": [
    "# 관리 함수\n",
    "import random\n",
    "random.seed() # 난수생성기 초기화"
   ]
  },
  {
   "cell_type": "code",
   "execution_count": 18,
   "metadata": {},
   "outputs": [
    {
     "name": "stdout",
     "output_type": "stream",
     "text": [
      "b'\\xb4'\n"
     ]
    }
   ],
   "source": [
    "# 무작위 바이트 생성\n",
    "randomByte = random.randbytes(1)\n",
    "print(randomByte)"
   ]
  },
  {
   "cell_type": "code",
   "execution_count": 84,
   "metadata": {},
   "outputs": [
    {
     "name": "stdout",
     "output_type": "stream",
     "text": [
      "2\n",
      "7\n",
      "3\n"
     ]
    }
   ],
   "source": [
    "# 무작위 정수 생성(범위)\n",
    "a_int = random.randrange(3) # random.randrange(stop)\n",
    "b_int = random.randrange(5, 10) # random.randrage(start, stop[, step])\n",
    "c_int = random.randint(3, 5) #random.randrange(start, stop+1)\n",
    "print(a_int) # 0~2\n",
    "print(b_int) # 5~9\n",
    "print(c_int) # 3~5\n"
   ]
  },
  {
   "cell_type": "code",
   "execution_count": 92,
   "metadata": {},
   "outputs": [
    {
     "name": "stdout",
     "output_type": "stream",
     "text": [
      "0.5961718215562203\n",
      "5.020078360575423\n"
     ]
    }
   ],
   "source": [
    "# 무작위 실수 생성\n",
    "a_random = random.random() # 0.0 ~ 1.0 사이의 임의의 실수 반환\n",
    "b_uniform = random.uniform(0, 10) # a ~ b 사이의 임의의 실수 반환\n",
    "print(a_random) #0.0 ~ 1.0\n",
    "print(b_uniform) # 0.0 ~ 10.0"
   ]
  },
  {
   "cell_type": "markdown",
   "metadata": {},
   "source": []
  }
 ],
 "metadata": {
  "kernelspec": {
   "display_name": "base",
   "language": "python",
   "name": "python3"
  },
  "language_info": {
   "codemirror_mode": {
    "name": "ipython",
    "version": 3
   },
   "file_extension": ".py",
   "mimetype": "text/x-python",
   "name": "python",
   "nbconvert_exporter": "python",
   "pygments_lexer": "ipython3",
   "version": "3.9.13"
  },
  "orig_nbformat": 4,
  "vscode": {
   "interpreter": {
    "hash": "9d90e3f0a59e9d486a6af0b11adfdb9d68a41c5c9bc1e5d50ec2e25ec8a1d409"
   }
  }
 },
 "nbformat": 4,
 "nbformat_minor": 2
}
