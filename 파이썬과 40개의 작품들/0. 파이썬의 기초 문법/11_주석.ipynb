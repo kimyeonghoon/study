{
 "cells": [
  {
   "cell_type": "code",
   "execution_count": 1,
   "metadata": {},
   "outputs": [
    {
     "name": "stdout",
     "output_type": "stream",
     "text": [
      "hello\n"
     ]
    }
   ],
   "source": [
    "#w 주석입니다.\n",
    "#사용자 설명 코드 입니다.\n",
    "print(\"hello\") # 코드의 줄 끝에 사용할 수 있습니다."
   ]
  },
  {
   "cell_type": "code",
   "execution_count": 2,
   "metadata": {},
   "outputs": [
    {
     "name": "stdout",
     "output_type": "stream",
     "text": [
      "hi\n"
     ]
    }
   ],
   "source": [
    "# print(\"Hello\")\n",
    "print(\"hi\")"
   ]
  },
  {
   "cell_type": "code",
   "execution_count": null,
   "metadata": {},
   "outputs": [],
   "source": [
    "\"\"\"\n",
    "    여러줄을 입력할 때는\n",
    "    쌍따옴표 3개로 시작하고\n",
    "    쌍따옴표 3개로 종료하면\n",
    "    여러 줄을 입력할 수 있습니다.\n",
    "\"\"\""
   ]
  },
  {
   "cell_type": "code",
   "execution_count": null,
   "metadata": {},
   "outputs": [],
   "source": [
    "'''\n",
    "    또는 여러 줄을 입력할 때는\n",
    "    따옴표 3개로 시작하고\n",
    "    따옴표 3개로 종료하면\n",
    "    여러 줄을 입력할 수 있습니다.\n",
    "'''"
   ]
  },
  {
   "cell_type": "code",
   "execution_count": 3,
   "metadata": {},
   "outputs": [
    {
     "name": "stdout",
     "output_type": "stream",
     "text": [
      "\n",
      "여러 줄의\n",
      "문자열을 입력할 때도 쌍따옴표 또는 따옴표 3개를 사용할 수 있습니다.\n",
      "\n"
     ]
    }
   ],
   "source": [
    "a_str = \"\"\"\n",
    "여러 줄의\n",
    "문자열을 입력할 때도 쌍따옴표 또는 따옴표 3개를 사용할 수 있습니다.\n",
    "\"\"\"\n",
    "\n",
    "print(a_str)"
   ]
  }
 ],
 "metadata": {
  "kernelspec": {
   "display_name": "base",
   "language": "python",
   "name": "python3"
  },
  "language_info": {
   "codemirror_mode": {
    "name": "ipython",
    "version": 3
   },
   "file_extension": ".py",
   "mimetype": "text/x-python",
   "name": "python",
   "nbconvert_exporter": "python",
   "pygments_lexer": "ipython3",
   "version": "3.9.13"
  },
  "orig_nbformat": 4,
  "vscode": {
   "interpreter": {
    "hash": "9d90e3f0a59e9d486a6af0b11adfdb9d68a41c5c9bc1e5d50ec2e25ec8a1d409"
   }
  }
 },
 "nbformat": 4,
 "nbformat_minor": 2
}
