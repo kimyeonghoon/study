{
 "cells": [
  {
   "cell_type": "code",
   "execution_count": 11,
   "metadata": {},
   "outputs": [
    {
     "name": "stdout",
     "output_type": "stream",
     "text": [
      "두 개의 값은 참입니다.\n"
     ]
    }
   ],
   "source": [
    "a = 1\n",
    "b = 1\n",
    "if a == b:\n",
    "    print(\"두 개의 값은 참입니다.\")\n",
    "if a != b:\n",
    "    print(\"두 개의 값은 같지 않습니다.\")"
   ]
  },
  {
   "cell_type": "code",
   "execution_count": 12,
   "metadata": {},
   "outputs": [
    {
     "name": "stdout",
     "output_type": "stream",
     "text": [
      "두 개의 값은 같지 않습니다.\n"
     ]
    }
   ],
   "source": [
    "a = 1\n",
    "b = 2\n",
    "if a == b:\n",
    "    print(\"두 개의 값은 같습니다\")\n",
    "else:\n",
    "    print(\"두 개의 값은 같지 않습니다.\")"
   ]
  },
  {
   "cell_type": "code",
   "execution_count": 13,
   "metadata": {},
   "outputs": [
    {
     "name": "stdout",
     "output_type": "stream",
     "text": [
      "b의 값이 더 큽니다.\n"
     ]
    }
   ],
   "source": [
    "a = 1\n",
    "b = 2\n",
    "if a > b:\n",
    "    print(\"a 값이 더 큽니다.\")\n",
    "elif a < b:\n",
    "    print(\"b의 값이 더 큽니다.\")\n",
    "else:\n",
    "    print(\"두 개의 값은 같습니다.\")"
   ]
  },
  {
   "cell_type": "code",
   "execution_count": 14,
   "metadata": {},
   "outputs": [
    {
     "name": "stdout",
     "output_type": "stream",
     "text": [
      "a 값이 더 크거나 같습니다.\n",
      "a의 값이 작거나 같습니다.\n"
     ]
    }
   ],
   "source": [
    "a = 1\n",
    "b = 1\n",
    "if a>= b:\n",
    "    print(\"a 값이 더 크거나 같습니다.\")\n",
    "if a <= b:\n",
    "    print(\"a의 값이 작거나 같습니다.\")"
   ]
  },
  {
   "cell_type": "code",
   "execution_count": 15,
   "metadata": {},
   "outputs": [
    {
     "name": "stdout",
     "output_type": "stream",
     "text": [
      "두 조건 만족\n",
      "두 조건 중 하나라도 만족하면 참\n"
     ]
    }
   ],
   "source": [
    "a = 1\n",
    "b = 1\n",
    "c = 2\n",
    "d = 2\n",
    "\n",
    "if a == b and c == d:\n",
    "    print(\"두 조건 만족\")\n",
    "if a == b or c == d:\n",
    "    print(\"두 조건 중 하나라도 만족하면 참\")"
   ]
  },
  {
   "cell_type": "code",
   "execution_count": 16,
   "metadata": {},
   "outputs": [
    {
     "name": "stdout",
     "output_type": "stream",
     "text": [
      "hello python 문자열이 같습니다.\n",
      "hello가 포함되어 있습니다.\n",
      "hi가 포함되어 있지 않습니다.\n"
     ]
    }
   ],
   "source": [
    "a_str = \"hello python\"\n",
    "if a_str == \"hello python\":\n",
    "    print(\"hello python 문자열이 같습니다.\") # 참\n",
    "if a_str == \"hi python\":\n",
    "    print(\"hi python 문자열이 같습니다.\") # 거짓\n",
    "if \"hello\" in a_str:\n",
    "    print(\"hello가 포함되어 있습니다.\") # 참\n",
    "if \"hello\" not in a_str:\n",
    "    print(\"hello가 포함되어 있지 않습니다.\") # 거짓\n",
    "if \"hi\" not in a_str:\n",
    "    print(\"hi가 포함되어 있지 않습니다.\") # 참"
   ]
  },
  {
   "cell_type": "code",
   "execution_count": 17,
   "metadata": {},
   "outputs": [
    {
     "name": "stdout",
     "output_type": "stream",
     "text": [
      "a_list에 안녕이 포함되어 있습니다.\n",
      "a_list에 숫자 2가 포함되어 있습니다.\n"
     ]
    }
   ],
   "source": [
    "a_list = [\"안녕\", 1, 2, \"파이썬\"]\n",
    "if \"안녕\" in a_list:\n",
    "    print(\"a_list에 안녕이 포함되어 있습니다.\")\n",
    "if 2 in a_list:\n",
    "    print(\"a_list에 숫자 2가 포함되어 있습니다.\")"
   ]
  },
  {
   "cell_type": "code",
   "execution_count": null,
   "metadata": {},
   "outputs": [
    {
     "ename": "",
     "evalue": "",
     "output_type": "error",
     "traceback": [
      "\u001b[1;31m커널을 시작하지 못했습니다. \n",
      "\u001b[1;31m커널 Python 3.9.6을(를) ​사용할 수 없습니다. 자세한 내용은 Jupyter 출력 탭을 확인하세요. \n",
      "\u001b[1;31m자세한 내용은 Jupyter <a href='command:jupyter.viewOutput'>로그</a>를 참조하세요."
     ]
    }
   ],
   "source": [
    "a_list = [\"안녕\", 1, 2, \"파이썬\"]\n",
    "if \"안녕\" not in a_list:\n",
    "    print(\"a_list에 안녕이 포함되어 있지 않습니다.\")\n",
    "if 5 not in a_list:\n",
    "    print(\"a_list에 숫자 5는 없습니다.\")"
   ]
  }
 ],
 "metadata": {
  "kernelspec": {
   "display_name": "Python 3",
   "language": "python",
   "name": "python3"
  },
  "language_info": {
   "codemirror_mode": {
    "name": "ipython",
    "version": 3
   },
   "file_extension": ".py",
   "mimetype": "text/x-python",
   "name": "python",
   "nbconvert_exporter": "python",
   "pygments_lexer": "ipython3",
   "version": "3.9.6 (default, Oct 18 2022, 12:41:40) \n[Clang 14.0.0 (clang-1400.0.29.202)]"
  },
  "orig_nbformat": 4,
  "vscode": {
   "interpreter": {
    "hash": "31f2aee4e71d21fbe5cf8b01ff0e069b9275f58929596ceb00d14d90e3e16cd6"
   }
  }
 },
 "nbformat": 4,
 "nbformat_minor": 2
}
