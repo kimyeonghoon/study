{
 "cells": [
  {
   "cell_type": "code",
   "execution_count": 1,
   "metadata": {},
   "outputs": [
    {
     "name": "stdout",
     "output_type": "stream",
     "text": [
      "안녕하세요.\n",
      "파이썬과 40개의 작품들 입니다.\n"
     ]
    }
   ],
   "source": [
    "def func():\n",
    "    print(\"안녕하세요.\")\n",
    "    print(\"파이썬과 40개의 작품들 입니다.\")\n",
    "\n",
    "func()"
   ]
  },
  {
   "cell_type": "code",
   "execution_count": 2,
   "metadata": {},
   "outputs": [
    {
     "name": "stdout",
     "output_type": "stream",
     "text": [
      "안녕하세요.\n",
      "파이썬과 40개의 작품들 입니다.\n",
      "안녕하세요.\n",
      "파이썬과 40개의 작품들 입니다.\n",
      "안녕하세요.\n",
      "파이썬과 40개의 작품들 입니다.\n"
     ]
    }
   ],
   "source": [
    "def func():\n",
    "    print(\"안녕하세요.\")\n",
    "    print(\"파이썬과 40개의 작품들 입니다.\")\n",
    "\n",
    "for i in range(3):\n",
    "    func()\n",
    "    "
   ]
  },
  {
   "cell_type": "code",
   "execution_count": 3,
   "metadata": {},
   "outputs": [
    {
     "name": "stdout",
     "output_type": "stream",
     "text": [
      "3\n"
     ]
    }
   ],
   "source": [
    "def funcAdd(a, b):\n",
    "    return a + b\n",
    "c = funcAdd(1, 2)\n",
    "print(c)"
   ]
  },
  {
   "cell_type": "code",
   "execution_count": 4,
   "metadata": {},
   "outputs": [
    {
     "name": "stdout",
     "output_type": "stream",
     "text": [
      "6\n"
     ]
    }
   ],
   "source": [
    "def funcMax(a, b):\n",
    "    mux = a * b\n",
    "    return mux\n",
    "\n",
    "c = funcMax(2, 3)\n",
    "print(c)"
   ]
  },
  {
   "cell_type": "code",
   "execution_count": 5,
   "metadata": {},
   "outputs": [
    {
     "name": "stdout",
     "output_type": "stream",
     "text": [
      "3\n"
     ]
    }
   ],
   "source": [
    "def funcAddMux(a, b):\n",
    "    add = a + b\n",
    "    mux = a * b\n",
    "    return add, mux\n",
    "\n",
    "_,b = funcAddMux(1, 3)\n",
    "print(b)\n"
   ]
  }
 ],
 "metadata": {
  "kernelspec": {
   "display_name": "base",
   "language": "python",
   "name": "python3"
  },
  "language_info": {
   "codemirror_mode": {
    "name": "ipython",
    "version": 3
   },
   "file_extension": ".py",
   "mimetype": "text/x-python",
   "name": "python",
   "nbconvert_exporter": "python",
   "pygments_lexer": "ipython3",
   "version": "3.9.13"
  },
  "orig_nbformat": 4,
  "vscode": {
   "interpreter": {
    "hash": "9d90e3f0a59e9d486a6af0b11adfdb9d68a41c5c9bc1e5d50ec2e25ec8a1d409"
   }
  }
 },
 "nbformat": 4,
 "nbformat_minor": 2
}
