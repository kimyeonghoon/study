{
 "cells": [
  {
   "attachments": {},
   "cell_type": "markdown",
   "metadata": {},
   "source": [
    "### socket - 저수준 네트워킹 인터페이스\n",
    "#### https://docs.python.org/ko/3/library/socket.html?highlight=socket#module-socket\n",
    "\n",
    "socket 인터페이스에 대한 액세스 제공. 모든 플랫폼에서 사용 가능\n"
   ]
  },
  {
   "cell_type": "code",
   "execution_count": 34,
   "metadata": {},
   "outputs": [
    {
     "name": "stdout",
     "output_type": "stream",
     "text": [
      "127.0.0.1\n"
     ]
    }
   ],
   "source": [
    "import socket\n",
    "\n",
    "# 1. 내부 아이피 확인 - 인터페이스가 여러 개일 경우 원하는 ip가 나오지 않음\n",
    "print(socket.gethostbyname(socket.gethostname()))\n",
    "\n"
   ]
  },
  {
   "cell_type": "code",
   "execution_count": 33,
   "metadata": {},
   "outputs": [
    {
     "name": "stdout",
     "output_type": "stream",
     "text": [
      "192.168.200.162\n"
     ]
    }
   ],
   "source": [
    "# 2. 내부 아이피 확인 - 외부 페이지 접근 후 접근한 소켓 정보 가져오는 방법(외부 통신이 되는 ip 확인)\n",
    "sock = socket.socket(socket.AF_INET, socket.SOCK_STREAM)\n",
    "sock.connect((\"yeonghoon.kim\", 443))\n",
    "print(sock.getsockname()[0])"
   ]
  }
 ],
 "metadata": {
  "kernelspec": {
   "display_name": "base",
   "language": "python",
   "name": "python3"
  },
  "language_info": {
   "codemirror_mode": {
    "name": "ipython",
    "version": 3
   },
   "file_extension": ".py",
   "mimetype": "text/x-python",
   "name": "python",
   "nbconvert_exporter": "python",
   "pygments_lexer": "ipython3",
   "version": "3.9.13"
  },
  "orig_nbformat": 4,
  "vscode": {
   "interpreter": {
    "hash": "9d90e3f0a59e9d486a6af0b11adfdb9d68a41c5c9bc1e5d50ec2e25ec8a1d409"
   }
  }
 },
 "nbformat": 4,
 "nbformat_minor": 2
}
